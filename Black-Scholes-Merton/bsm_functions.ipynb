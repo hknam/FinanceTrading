{
 "cells": [
  {
   "cell_type": "code",
   "execution_count": null,
   "metadata": {
    "collapsed": true
   },
   "outputs": [],
   "source": [
    "#\n",
    "# Valuation of European call options in Black-Scholes-Merton model\n",
    "# \n",
    "\n",
    "# Analytical Black-Scholes-Merton(BSM) Formula"
   ]
  },
  {
   "cell_type": "code",
   "execution_count": null,
   "metadata": {},
   "outputs": [],
   "source": [
    "%%latex\n",
    "\\begin{align}\n",
    "C(S_{t}, K_{t},T,r,\\sigma) = S_{t} \\cdot N(d_{1}) -e^{-r(T-t)} \\cdot K \\cdot N(d_{2}) \\\\\n",
    "N(d) = \\frac{1}{\\sqrt{2\\pi}}\\int_{-∞}^{d} e^{-\\frac{1}{2}x^{2}}dx \\\\\n",
    "d_{1} = \\frac{\\log\\frac{S_{t}}{K}+(r+\\frac{\\sigma^{2}}{2})(T-t)}{\\sigma\\sqrt{T-t}} \\\\\n",
    "d_{2} = \\frac{\\log\\frac{S_{t}}{K}+(r-\\frac{\\sigma^{2}}{2})(T-t)}{\\sigma\\sqrt{T-t}}\n",
    "\\end{align}"
   ]
  },
  {
   "cell_type": "code",
   "execution_count": null,
   "metadata": {
    "collapsed": true
   },
   "outputs": [],
   "source": [
    "import math\n",
    "import scipy.stats"
   ]
  },
  {
   "cell_type": "code",
   "execution_count": null,
   "metadata": {
    "collapsed": true
   },
   "outputs": [],
   "source": [
    "def bsm_call_value(S0, K, T, R, sigma):\n",
    "    \"\"\"Valuation of European call option in BSM model Analytical formula\n",
    "        \n",
    "    Parameters\n",
    "    - S0 : float(initial stock/index level)\n",
    "    - K : float(strike price)\n",
    "    - T : float(maturity date : in year fractions)\n",
    "    - r : float(constant risk-free short rate)\n",
    "    - sigma : float(volatility factor in diffusion term)\n",
    "    \n",
    "    Returns\n",
    "    - value : float(present value of the European call option)\n",
    "    \"\"\"\n",
    "    \n",
    "    SO = float(S0)\n",
    "    d1 = ( (math.log(S0) / K) + (r + 0.5 * sigma ** 2) * T ) / (sigma * math.sqrt(T) )\n",
    "    d2 = ( (math.log(S0) / K) + (r - 0.5 * sigma ** 2) * T ) / (sigma * math.sqrt(T) )\n",
    "    value = ( S0 * scipy.stats.norm.cdf(d1, 0.0, 1.0) - K * math.exp(-r * T) * scipy.stats.norm.cdf(d2, 0.0, 1.0))\n",
    "    # scipy.stats.norm.cdf : cumulative distribution function for normal distribution\n",
    "    return value"
   ]
  },
  {
   "cell_type": "code",
   "execution_count": null,
   "metadata": {
    "collapsed": true
   },
   "outputs": [],
   "source": [
    "def bsm_vega(S0, K, T, r, sigma):\n",
    "    \"\"\"Vega of European option in BSM model\n",
    "    \n",
    "    Parameters\n",
    "    - S0 : float(initial stock/index level)\n",
    "    - K : float(strike price)\n",
    "    - T : float(maturity date : in year fractions)\n",
    "    - r : float(constant risk-free short rate)\n",
    "    - sigma : float(volatility factor in diffusion term)\n",
    "    \n",
    "    Returns\n",
    "    - vega : float(partial derivative of BSM formula with respect to sigma, i.e. Vega)\n",
    "    \n",
    "    \"\"\"\n",
    "    \n",
    "    SO = float(S0)\n",
    "    d1 = ( (math.log(S0) / K) + (r + 0.5 * sigma ** 2) * T ) / (sigma * math.sqrt(T) )\n",
    "    vega = S0 * scipy.stats.norm.cdf(d1, 0.0, 1.0) * math.sqrt(T)\n",
    "    \n",
    "    return vega   \n",
    "    "
   ]
  },
  {
   "cell_type": "code",
   "execution_count": null,
   "metadata": {
    "collapsed": true
   },
   "outputs": [],
   "source": [
    "def bsm_call_imp_vol(S0, K, T, r, C0, sigma_est, it=100):\n",
    "    \"\"\"Implied volatility of European call option in BSM model\n",
    "    \n",
    "    Parameters\n",
    "    - SO : float(initial stock/intex level)\n",
    "    - K : float(strike price)\n",
    "    - T : float(maturity date : in year fractions)\n",
    "    - r : float(constant risk-free short rate)\n",
    "    - sigma_est : float(estimate of impl. volatility)\n",
    "    - it : integer(number of iterations)\n",
    "    \n",
    "    Returns\n",
    "    - sigma_est : float(numberically estimated implied volatility)\n",
    "    \"\"\"\n",
    "    \n",
    "    for index in range(it):\n",
    "        sigma_est -= ((bsm_call_value(S0, K, T, r, sigma_est) - C0) / bsm_vega(S0, K, T, r, sigma_est))\n",
    "        \n",
    "    return sigma_est\n",
    "    \n",
    "    "
   ]
  },
  {
   "cell_type": "code",
   "execution_count": null,
   "metadata": {
    "collapsed": true
   },
   "outputs": [],
   "source": [
    "V0 = 17.6639"
   ]
  },
  {
   "cell_type": "code",
   "execution_count": null,
   "metadata": {
    "collapsed": true
   },
   "outputs": [],
   "source": [
    "r = 0.01"
   ]
  },
  {
   "cell_type": "code",
   "execution_count": null,
   "metadata": {
    "collapsed": true
   },
   "outputs": [],
   "source": [
    "import pandas as pd\n",
    "h5 = pd.HDFStore('./vstoxx_data_31032014.h5', 'r')\n",
    "futures_data = h5['futures_data']\n",
    "options_data = h5['options_data']\n",
    "h5.close()"
   ]
  },
  {
   "cell_type": "code",
   "execution_count": null,
   "metadata": {},
   "outputs": [],
   "source": [
    "options_data['DATE'] = pd.to_datetime(options_data.DATE)\n",
    "futures_data['DATE'] = pd.to_datetime(futures_data.DATE)\n",
    "options_data['MATURITY'] = pd.to_datetime(options_data.MATURITY)\n",
    "futures_data['MATURITY'] = pd.to_datetime(futures_data.MATURITY)"
   ]
  },
  {
   "cell_type": "code",
   "execution_count": null,
   "metadata": {},
   "outputs": [],
   "source": [
    "options_data.info()"
   ]
  },
  {
   "cell_type": "code",
   "execution_count": null,
   "metadata": {},
   "outputs": [],
   "source": [
    "options_data[['DATE', 'MATURITY', 'TTM', 'STRIKE', 'PRICE']].head()"
   ]
  },
  {
   "cell_type": "code",
   "execution_count": null,
   "metadata": {
    "collapsed": true
   },
   "outputs": [],
   "source": [
    "options_data['IMP_VOL'] = 0.0"
   ]
  },
  {
   "cell_type": "code",
   "execution_count": null,
   "metadata": {},
   "outputs": [],
   "source": [
    "to1 = 0.5\n",
    "\n",
    "for option in options_data.index:\n",
    "    forward = futures_data[futures_data['MATURITY'] == \\\n",
    "                           options_data.loc[option]['MATURITY']]['PRICE'].values[0]\n",
    "    if forward * (1-to1) < options_data.loc[option]['STRIKE'] < forward * (1 + to1):\n",
    "        imp_vol = bsm_call_imp_vol(\n",
    "            V0,\n",
    "            options_data.loc[option]['STRIKE'],\n",
    "            options_data.loc[option]['TTM'],\n",
    "            r,\n",
    "            options_data.loc[option]['PRICE'],\n",
    "            sigma_est = 2.,\n",
    "            it = 100\n",
    "        )\n",
    "        options_data['IMP_VOL'].loc[option] = imp_vol\n",
    "                           "
   ]
  },
  {
   "cell_type": "code",
   "execution_count": null,
   "metadata": {},
   "outputs": [],
   "source": [
    "futures_data['MATURITY']"
   ]
  },
  {
   "cell_type": "code",
   "execution_count": null,
   "metadata": {},
   "outputs": [],
   "source": [
    "options_data.loc[46170]"
   ]
  },
  {
   "cell_type": "code",
   "execution_count": null,
   "metadata": {},
   "outputs": [],
   "source": [
    "options_data.loc[46170]['STRIKE']"
   ]
  },
  {
   "cell_type": "code",
   "execution_count": null,
   "metadata": {
    "collapsed": true
   },
   "outputs": [],
   "source": [
    "plot_data = options_data[options_data['IMP_VOL'] > 0]"
   ]
  },
  {
   "cell_type": "code",
   "execution_count": null,
   "metadata": {},
   "outputs": [],
   "source": [
    "maturities = sorted(set(options_data['MATURITY']))\n",
    "maturities"
   ]
  },
  {
   "cell_type": "code",
   "execution_count": null,
   "metadata": {},
   "outputs": [],
   "source": [
    "import matplotlib.pyplot as plt\n",
    "%matplotlib inline\n",
    "\n",
    "plt.figure(figsize=(10,8))\n",
    "for maturity in maturities:\n",
    "    data = plot_data[options_data.MATURITY == maturity]\n",
    "    plt.plot(data['STRIKE'], data['IMP_VOL'],\n",
    "            label=maturity.date(), lw=1.5)\n",
    "    \n",
    "    plt.plot(data['STRIKE'], data['IMP_VOL'], 'r.')\n",
    "    \n",
    "plt.grid(True)\n",
    "plt.xlabel('strike')\n",
    "plt.ylabel('implied volatility of volatility')\n",
    "plt.legend(bbox_to_anchor=(1.04,1), borderaxespad=0)\n",
    "plt.show()"
   ]
  },
  {
   "cell_type": "code",
   "execution_count": null,
   "metadata": {
    "collapsed": true
   },
   "outputs": [],
   "source": []
  }
 ],
 "metadata": {
  "kernelspec": {
   "display_name": "Python 3",
   "language": "python",
   "name": "python3"
  },
  "language_info": {
   "codemirror_mode": {
    "name": "ipython",
    "version": 3
   },
   "file_extension": ".py",
   "mimetype": "text/x-python",
   "name": "python",
   "nbconvert_exporter": "python",
   "pygments_lexer": "ipython3",
   "version": "3.6.3"
  }
 },
 "nbformat": 4,
 "nbformat_minor": 2
}
